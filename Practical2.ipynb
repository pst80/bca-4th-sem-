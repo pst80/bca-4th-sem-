{
 "cells": [
  {
   "cell_type": "code",
   "execution_count": 2,
   "id": "2576854a-662b-4401-859f-1f993bc0e7d9",
   "metadata": {},
   "outputs": [],
   "source": [
    "import pandas as pd\n",
    "# Load the dataset\n",
    "churn = pd.read_csv('Churn_DataDescription.csv')\n",
    "\n"
   ]
  },
  {
   "cell_type": "code",
   "execution_count": 8,
   "id": "53464a42-1b90-4dcb-8cc1-ad14624aae1a",
   "metadata": {},
   "outputs": [
    {
     "name": "stdout",
     "output_type": "stream",
     "text": [
      "Number of duplicate records based on CustomerID: 0\n"
     ]
    }
   ],
   "source": [
    "# Find duplicate records based on CustomerID column\n",
    "duplicate_records = churn.duplicated(subset=['customerID']).sum()\n",
    "print(f\"Number of duplicate records based on CustomerID: {duplicate_records}\")\n"
   ]
  },
  {
   "cell_type": "code",
   "execution_count": null,
   "id": "37a9a570-7432-4232-89d0-d5249f342b25",
   "metadata": {},
   "outputs": [],
   "source": []
  }
 ],
 "metadata": {
  "kernelspec": {
   "display_name": "Python 3 (ipykernel)",
   "language": "python",
   "name": "python3"
  },
  "language_info": {
   "codemirror_mode": {
    "name": "ipython",
    "version": 3
   },
   "file_extension": ".py",
   "mimetype": "text/x-python",
   "name": "python",
   "nbconvert_exporter": "python",
   "pygments_lexer": "ipython3",
   "version": "3.11.7"
  }
 },
 "nbformat": 4,
 "nbformat_minor": 5
}
